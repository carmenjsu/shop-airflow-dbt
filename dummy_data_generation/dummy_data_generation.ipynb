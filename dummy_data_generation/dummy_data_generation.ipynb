{
 "cells": [
  {
   "cell_type": "code",
   "execution_count": 6,
   "id": "04311f67",
   "metadata": {},
   "outputs": [],
   "source": [
    "import pandas as pandas\n",
    "from datetime import datetime, timedelta\n",
    "import random"
   ]
  },
  {
   "cell_type": "code",
   "execution_count": null,
   "id": "08fc439b",
   "metadata": {},
   "outputs": [
    {
     "name": "stdout",
     "output_type": "stream",
     "text": [
      "Dummy orders data created and saved to orders.csv\n"
     ]
    }
   ],
   "source": [
    "# Genrate dummy data for shop orders with order_id, customer_id and order_date and returns a csv file.\n",
    "def generate_dummy_orders(num_orders=1000):\n",
    "    order_ids = [i for i in range(1, num_orders + 1)]\n",
    "    customer_ids = [random.randint(1, 5) for _ in range(num_orders)]\n",
    "    order_dates = [datetime.now() - timedelta(days=random.randint(0, 365)) for _ in range(num_orders)]\n",
    "\n",
    "    orders_df = pandas.DataFrame({\n",
    "        'order_id': order_ids,\n",
    "        'customer_id': customer_ids,\n",
    "        'order_date': order_dates\n",
    "    })\n",
    "\n",
    "    orders_df.to_csv('orders.csv', index=False)\n",
    "    print(\"Dummy orders data created and saved to orders.csv\")   \n",
    "\n",
    "# Call the function to generate dummy orders\n",
    "generate_dummy_orders(1000) "
   ]
  },
  {
   "cell_type": "code",
   "execution_count": 10,
   "id": "3bf25b0c",
   "metadata": {},
   "outputs": [
    {
     "name": "stdout",
     "output_type": "stream",
     "text": [
      "Dummy customers data created and saved to customers.csv\n"
     ]
    }
   ],
   "source": [
    "# Generate dummy data for a customer table with customer_id, customer_name and customer_email and returns a csv file.\n",
    "def generate_dummy_customers(num_customers=5):\n",
    "    customer_ids = [i for i in range(1, num_customers + 1)]\n",
    "    customer_names = ['Alice', 'Bob', 'Charlie', 'David', 'Eve']\n",
    "    customer_emails = [f\"{name.lower()}@example.com\" for name in customer_names]\n",
    "\n",
    "    customers_df = pandas.DataFrame({\n",
    "        'customer_id': customer_ids,\n",
    "        'customer_name': customer_names[:num_customers], \n",
    "        'customer_email': customer_emails[:num_customers]\n",
    "    })\n",
    "\n",
    "    customers_df.to_csv('customers.csv', index=False)\n",
    "    print(\"Dummy customers data created and saved to customers.csv\")\n",
    "\n",
    "# Call the function to generate dummy customers\n",
    "generate_dummy_customers(5)"
   ]
  },
  {
   "cell_type": "code",
   "execution_count": 12,
   "id": "0b22d0b3",
   "metadata": {},
   "outputs": [
    {
     "name": "stdout",
     "output_type": "stream",
     "text": [
      "Dummy shipments data created and saved to shipments.csv\n"
     ]
    }
   ],
   "source": [
    "# Generate dummy data for a shipment table with shipment_id, order_id, status, shipped_at and delievered_at and returns a csv file.\n",
    "def generate_dummy_shipments(num_shipments=1000):\n",
    "    shipment_ids = [i for i in range(1, num_shipments + 1)]\n",
    "    order_ids = [i for i in range(1, num_shipments + 1)]\n",
    "    statuses = ['Shipped', 'Delivered']\n",
    "    shipped_at = [datetime.now() - timedelta(days=random.randint(0, 30)) for _ in range(num_shipments)]\n",
    "    delivered_at = [shipped + timedelta(days=random.randint(1, 10)) if random.choice([True, False]) else None for shipped in shipped_at]\n",
    "\n",
    "    shipments_df = pandas.DataFrame({\n",
    "        'shipment_id': shipment_ids,\n",
    "        'order_id': order_ids,\n",
    "        'status': [random.choice(statuses) for _ in range(num_shipments)],\n",
    "        'shipped_at': shipped_at,\n",
    "        'delivered_at': delivered_at\n",
    "    })\n",
    "\n",
    "    shipments_df.to_csv('shipments.csv', index=False)\n",
    "    print(\"Dummy shipments data created and saved to shipments.csv\")\n",
    "\n",
    "# Call the function to generate dummy shipments\n",
    "generate_dummy_shipments(1000)\n",
    "# Note: Ensure that the number of shipments does not exceed the number of orders."
   ]
  }
 ],
 "metadata": {
  "kernelspec": {
   "display_name": ".venv",
   "language": "python",
   "name": "python3"
  },
  "language_info": {
   "codemirror_mode": {
    "name": "ipython",
    "version": 3
   },
   "file_extension": ".py",
   "mimetype": "text/x-python",
   "name": "python",
   "nbconvert_exporter": "python",
   "pygments_lexer": "ipython3",
   "version": "3.9.5"
  }
 },
 "nbformat": 4,
 "nbformat_minor": 5
}
